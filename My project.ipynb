{
  "metadata": {
    "language_info": {
      "codemirror_mode": {
        "name": "python",
        "version": 3
      },
      "file_extension": ".py",
      "mimetype": "text/x-python",
      "name": "python",
      "nbconvert_exporter": "python",
      "pygments_lexer": "ipython3",
      "version": "3.8"
    },
    "kernelspec": {
      "name": "python",
      "display_name": "Python (Pyodide)",
      "language": "python"
    }
  },
  "nbformat_minor": 4,
  "nbformat": 4,
  "cells": [
    {
      "cell_type": "markdown",
      "source": "<h1>My Jupyter Notebook on IBM,<h>",
      "metadata": {}
    },
    {
      "cell_type": "markdown",
      "source": "**Mayank Raj**",
      "metadata": {}
    },
    {
      "cell_type": "markdown",
      "source": "*Because I want to pursue a career in real estate and am interested in data science, I can easily analyse my field as a data scientist.*",
      "metadata": {}
    },
    {
      "cell_type": "markdown",
      "source": "<h3>The following code tests the Gauss Formula,<h>",
      "metadata": {}
    },
    {
      "cell_type": "code",
      "source": "def gauss(n):\n    return (n*(n+1))/2\n\ngauss(100) == sum (range(101))",
      "metadata": {
        "trusted": true
      },
      "execution_count": 5,
      "outputs": [
        {
          "execution_count": 5,
          "output_type": "execute_result",
          "data": {
            "text/plain": "True"
          },
          "metadata": {}
        }
      ]
    },
    {
      "cell_type": "markdown",
      "source": "* One\n* Two\n* Three",
      "metadata": {}
    },
    {
      "cell_type": "markdown",
      "source": "<a href=\"url\" target=\"_blank\">https://cloud.ibm.com/login</a>",
      "metadata": {}
    },
    {
      "cell_type": "code",
      "source": "",
      "metadata": {},
      "execution_count": null,
      "outputs": []
    }
  ]
}